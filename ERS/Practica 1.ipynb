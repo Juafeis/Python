{
 "cells": [
  {
   "cell_type": "markdown",
   "metadata": {},
   "source": [
    "1. Define una función max () que toma como argumentos dos números y devuelve el mayor de ellos. \n",
    "\n",
    "2. Escribe una función que toma un carácter (es decir, una cadena de longitud 1) y devuelve True si es una vocal, False en caso contrario\n",
    "\n",
    "3. Definir una función sum ()  que suma todos los números de una lista de números. Por ejemplo, suma ([1, 2, 3, 4]) debería devolver 10.\n",
    "\n",
    "4. Definir una función reverse () que retorna la inversión de una cadena. Por ejemplo, reverse (\"I am testing\") debería devolver la cadena \"gnitset ma I\".\n",
    "\n",
    "5. Un pangrama es una frase que contiene todas las letras del alfabeto Inglés, al menos una vez, por ejemplo: \"The quick brown fox jumps over the lazy dog\".  Escribe una función para comprobar si una sentencia para ver si es un pangrama o no.\n",
    "\n",
    "6. Escribe una función char_freq() que toma una cadena y crea una lista de frecuencias de los carácteres que figuran en el mismo. Representa la frecuencia de carácteres con un diccionario Python. Prueba con algo como char_freq (\"abbabcbdbabdbdbabababcbcbab\").\n",
    "\n",
    "7. Escribe una función que Determine si una cadena formada por corchetes es equilibrada, es decir, si consiste enteramente de pares de apertura / cierre de corchetes (en ese orden), y todos los corchetes abiertos se cierran correctamente.\n",
    "   []        OK   ][        NOT OK\n",
    "   [][]      OK   ][][      NOT OK\n",
    "   [[][]]    OK   []][[]    NOT OK\n",
    "\n",
    "8. Realiza una función que descarge el libro \"ALICE'S ADVENTURES IN WONDERLAND\" de \"http://www.gutenberg.org/files/11/11.txt\" vuelque su contenido en un string, elimine caràcteres especiales ('\\r.,!:@#$?\\''), convierta letras mayúsculas a minúsculas, y muestre entonces las n palabras (pasado por parámetro) más comunes."
   ]
  },
  {
   "cell_type": "markdown",
   "metadata": {},
   "source": [
    "1. Define una función max () que toma como argumentos dos números y devuelve el mayor de ellos. "
   ]
  },
  {
   "cell_type": "code",
   "execution_count": 7,
   "metadata": {},
   "outputs": [
    {
     "name": "stdout",
     "output_type": "stream",
     "text": [
      "6\n"
     ]
    }
   ],
   "source": [
    "def foo(x,y):\n",
    "    print(max(x,y))\n",
    "foo(5,6)"
   ]
  },
  {
   "cell_type": "markdown",
   "metadata": {},
   "source": [
    "2. Escribe una función que toma un carácter (es decir, una cadena de longitud 1) y devuelve True si es una vocal, \n",
    "False en caso contrario"
   ]
  },
  {
   "cell_type": "code",
   "execution_count": 9,
   "metadata": {},
   "outputs": [
    {
     "name": "stdout",
     "output_type": "stream",
     "text": [
      "False\n",
      "True\n"
     ]
    }
   ],
   "source": [
    "def es_vocal(c):\n",
    "    vocales = 'aeiou'\n",
    "    return c in vocales\n",
    "print(es_vocal('c'))\n",
    "print(es_vocal('e'))"
   ]
  },
  {
   "cell_type": "markdown",
   "metadata": {},
   "source": [
    "3. Definir una función sum ()  que suma todos los números de una lista de números. Por ejemplo, suma ([1, 2, 3, 4]) debería devolver 10."
   ]
  },
  {
   "cell_type": "code",
   "execution_count": 21,
   "metadata": {},
   "outputs": [
    {
     "name": "stdout",
     "output_type": "stream",
     "text": [
      "12\n"
     ]
    }
   ],
   "source": [
    "def foo(x):\n",
    "    numlist = sum(x)\n",
    "    print(numlist)\n",
    "foo([5,3,4])"
   ]
  },
  {
   "cell_type": "markdown",
   "metadata": {},
   "source": [
    "4. Definir una función reverse () que retorna la inversión de una cadena. Por ejemplo, reverse (\"I am testing\") debería devolver la cadena \"gnitset ma I\"."
   ]
  },
  {
   "cell_type": "code",
   "execution_count": 32,
   "metadata": {},
   "outputs": [
    {
     "name": "stdout",
     "output_type": "stream",
     "text": [
      "odnum aloH\n"
     ]
    }
   ],
   "source": [
    "def foo(x):\n",
    "    print(''.join(reversed(x)))\n",
    "foo(\"Hola mundo\")"
   ]
  },
  {
   "cell_type": "markdown",
   "metadata": {},
   "source": [
    "5. Un pangrama es una frase que contiene todas las letras del alfabeto Inglés, al menos una vez, por ejemplo: \"The quick brown fox jumps over the lazy dog\".  Escribe una función para comprobar si una sentencia para ver si es un pangrama o no."
   ]
  },
  {
   "cell_type": "code",
   "execution_count": 35,
   "metadata": {},
   "outputs": [
    {
     "data": {
      "text/plain": [
       "True"
      ]
     },
     "execution_count": 35,
     "metadata": {},
     "output_type": "execute_result"
    }
   ],
   "source": [
    "import string \n",
    "  \n",
    "alphabet = set(string.ascii_lowercase) \n",
    "  \n",
    "def ispangram(string): \n",
    "    return set(string.lower()) >= alphabet \n",
    "\n",
    "ispangram(\"The quick brown fox jumps over the lazy dog\")"
   ]
  },
  {
   "cell_type": "markdown",
   "metadata": {},
   "source": [
    "6. Escribe una función char_freq() que toma una cadena y crea una lista de frecuencias de los carácteres que figuran en el mismo. Representa la frecuencia de carácteres con un diccionario Python. Prueba con algo como char_freq (\"abbabcbdbabdbdbabababcbcbab\")."
   ]
  },
  {
   "cell_type": "code",
   "execution_count": 45,
   "metadata": {},
   "outputs": [
    {
     "name": "stdout",
     "output_type": "stream",
     "text": [
      "Counter({'a': 4, ' ': 3, 'i': 2, 'o': 2, 't': 2, 'p': 2, 'n': 2, 'e': 2, 'r': 2, 'M': 1, 'm': 1, 'l': 1, 'd': 1})\n"
     ]
    }
   ],
   "source": [
    "from collections import Counter \n",
    "def char_freq(x):\n",
    "    print(Counter(x))\n",
    "char_freq(\"Mi moto alpina derrapante\")"
   ]
  },
  {
   "cell_type": "markdown",
   "metadata": {},
   "source": [
    "7. Escribe una función que Determine si una cadena formada por corchetes es equilibrada, es decir, si consiste enteramente de pares de apertura / cierre de corchetes (en ese orden), y todos los corchetes abiertos se cierran correctamente.\n",
    "   []        OK   ][        NOT OK\n",
    "   [][]      OK   ][][      NOT OK\n",
    "   [[][]]    OK   []][[]    NOT OK"
   ]
  },
  {
   "cell_type": "code",
   "execution_count": 48,
   "metadata": {},
   "outputs": [
    {
     "data": {
      "text/plain": [
       "True"
      ]
     },
     "execution_count": 48,
     "metadata": {},
     "output_type": "execute_result"
    }
   ],
   "source": [
    "def check(my_string): \n",
    "    brackets = ['()', '{}', '[]'] \n",
    "    while any(x in my_string for x in brackets): \n",
    "        for br in brackets: \n",
    "            my_string = my_string.replace(br, '') \n",
    "    return not my_string \n",
    "check(\"{[]{()}}\")"
   ]
  },
  {
   "cell_type": "markdown",
   "metadata": {},
   "source": [
    "8. Realiza una función que descarge el libro \"ALICE'S ADVENTURES IN WONDERLAND\" de \"http://www.gutenberg.org/files/11/11.txt\" vuelque su contenido en un string, elimine caràcteres especiales ('\\r.,!:@#$?\\''), convierta letras mayúsculas a minúsculas, y muestre entonces las n palabras (pasado por parámetro) más comunes."
   ]
  },
  {
   "cell_type": "code",
   "execution_count": 53,
   "metadata": {},
   "outputs": [
    {
     "name": "stdout",
     "output_type": "stream",
     "text": [
      "FreqDist({',': 1993, \"'\": 1731, 'the': 1642, 'and': 872, '.': 764, 'to': 729, 'a': 632, 'it': 595, 'she': 553, 'i': 543, ...})\n",
      "None\n"
     ]
    }
   ],
   "source": [
    "def freqs(x):\n",
    "    from nltk.corpus import gutenberg\n",
    "    from nltk.probability import FreqDist\n",
    "    fdist = FreqDist(word.lower() for word in gutenberg.words('carroll-alice.txt'))\n",
    "    print(fdist.pprint(x))\n",
    "freqs(10)"
   ]
  },
  {
   "cell_type": "code",
   "execution_count": 51,
   "metadata": {},
   "outputs": [
    {
     "ename": "NameError",
     "evalue": "name 'freq' is not defined",
     "output_type": "error",
     "traceback": [
      "\u001b[1;31m---------------------------------------------------------------------------\u001b[0m",
      "\u001b[1;31mNameError\u001b[0m                                 Traceback (most recent call last)",
      "\u001b[1;32m<ipython-input-51-e3de0a8a09ae>\u001b[0m in \u001b[0;36m<module>\u001b[1;34m\u001b[0m\n\u001b[1;32m----> 1\u001b[1;33m \u001b[0mfreq\u001b[0m\u001b[1;33m(\u001b[0m\u001b[1;36m10\u001b[0m\u001b[1;33m)\u001b[0m\u001b[1;33m\u001b[0m\u001b[1;33m\u001b[0m\u001b[0m\n\u001b[0m",
      "\u001b[1;31mNameError\u001b[0m: name 'freq' is not defined"
     ]
    }
   ],
   "source": []
  },
  {
   "cell_type": "code",
   "execution_count": null,
   "metadata": {},
   "outputs": [],
   "source": []
  }
 ],
 "metadata": {
  "kernelspec": {
   "display_name": "Python 3",
   "language": "python",
   "name": "python3"
  },
  "language_info": {
   "codemirror_mode": {
    "name": "ipython",
    "version": 3
   },
   "file_extension": ".py",
   "mimetype": "text/x-python",
   "name": "python",
   "nbconvert_exporter": "python",
   "pygments_lexer": "ipython3",
   "version": "3.7.4"
  }
 },
 "nbformat": 4,
 "nbformat_minor": 2
}
