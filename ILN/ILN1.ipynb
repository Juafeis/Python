{
 "cells": [
  {
   "cell_type": "markdown",
   "metadata": {},
   "source": [
    "# ILN1: Índices de legibilidad de los textos del corpus Brown "
   ]
  },
  {
   "cell_type": "raw",
   "metadata": {},
   "source": [
    "Para medir la dificultad de lectura de un texto se definen ciertas medidas de legibilidad; de este modo se pueden seleccionar los textos más adecuados según el nivel de conocimiento de la lengua que tenga el lector.\n",
    "\n",
    "Sea nlpw el número medio de letras por palabras y npxf el número medio de palabras por frase de un texto; suponiendo definido el Índice Automático de Legibilidad IAL del texto como:\n",
    "\n",
    "IAL = 4.71 * nlpw + 0.5 * npxf - 21.43\n",
    "\n",
    "Se pide escribir un programa python para calcular el valor de IAL para las diferentes secciones, o categorías, del Corpus Brown y mostrar una tabla en la que figuren todas las categorías y sus IALs."
   ]
  },
  {
   "cell_type": "raw",
   "metadata": {},
   "source": [
    "Escribe el código python y ejecútalo:"
   ]
  },
  {
   "cell_type": "code",
   "execution_count": 59,
   "metadata": {},
   "outputs": [
    {
     "ename": "ModuleNotFoundError",
     "evalue": "No module named 'tabulate'",
     "output_type": "error",
     "traceback": [
      "\u001b[1;31m---------------------------------------------------------------------------\u001b[0m",
      "\u001b[1;31mModuleNotFoundError\u001b[0m                       Traceback (most recent call last)",
      "\u001b[1;32m<ipython-input-59-65ad5b7cae43>\u001b[0m in \u001b[0;36m<module>\u001b[1;34m\u001b[0m\n\u001b[0;32m      2\u001b[0m \u001b[1;32mimport\u001b[0m \u001b[0mmatplotlib\u001b[0m\u001b[1;33m.\u001b[0m\u001b[0mpylab\u001b[0m \u001b[1;32mas\u001b[0m \u001b[0mplt\u001b[0m\u001b[1;33m\u001b[0m\u001b[1;33m\u001b[0m\u001b[0m\n\u001b[0;32m      3\u001b[0m \u001b[1;32mfrom\u001b[0m \u001b[0mnltk\u001b[0m\u001b[1;33m.\u001b[0m\u001b[0mcorpus\u001b[0m \u001b[1;32mimport\u001b[0m \u001b[0mbrown\u001b[0m\u001b[1;33m\u001b[0m\u001b[1;33m\u001b[0m\u001b[0m\n\u001b[1;32m----> 4\u001b[1;33m \u001b[1;32mfrom\u001b[0m \u001b[0mtabulate\u001b[0m \u001b[1;32mimport\u001b[0m \u001b[0mtabulate\u001b[0m\u001b[1;33m\u001b[0m\u001b[1;33m\u001b[0m\u001b[0m\n\u001b[0m\u001b[0;32m      5\u001b[0m \u001b[0mnltk\u001b[0m\u001b[1;33m.\u001b[0m\u001b[0mdownload\u001b[0m\u001b[1;33m(\u001b[0m\u001b[1;34m'brown'\u001b[0m\u001b[1;33m)\u001b[0m\u001b[1;33m\u001b[0m\u001b[1;33m\u001b[0m\u001b[0m\n\u001b[0;32m      6\u001b[0m \u001b[1;33m\u001b[0m\u001b[0m\n",
      "\u001b[1;31mModuleNotFoundError\u001b[0m: No module named 'tabulate'"
     ]
    }
   ],
   "source": [
    "import nltk\n",
    "import matplotlib.pylab as plt\n",
    "from nltk.corpus import brown\n",
    "from tabulate import tabulate\n",
    "nltk.download('brown')\n",
    "\n",
    "\n",
    "corpus = nltk.corpus.brown\n",
    "print(\"%s     %s\" %(\"IAL\", \"category\"))\n",
    "for category in corpus.categories(): \n",
    "    words_len = []\n",
    "    words_per_sentence = []\n",
    "    for word in corpus.words(categories = category):\n",
    "        words_len.append(len(word))\n",
    "    for sentence in corpus.sents(categories = category):\n",
    "        words_per_sentence.append(len(sentence))\n",
    "    nlpw = sum(words_len)/len(words_len)\n",
    "    npxf = sum(words_per_sentence)/len(words_per_sentence)\n",
    "    IAL = 4.71 * nlpw + 0.5 * npxf - 21.43\n",
    "    print(\"%.2f  %s\" %(IAL, category))\n",
    "\n",
    "            \n"
   ]
  },
  {
   "cell_type": "code",
   "execution_count": null,
   "metadata": {},
   "outputs": [],
   "source": []
  },
  {
   "cell_type": "code",
   "execution_count": null,
   "metadata": {},
   "outputs": [],
   "source": []
  }
 ],
 "metadata": {
  "kernelspec": {
   "display_name": "Python 3",
   "language": "python",
   "name": "python3"
  },
  "language_info": {
   "codemirror_mode": {
    "name": "ipython",
    "version": 3
   },
   "file_extension": ".py",
   "mimetype": "text/x-python",
   "name": "python",
   "nbconvert_exporter": "python",
   "pygments_lexer": "ipython3",
   "version": "3.7.4"
  }
 },
 "nbformat": 4,
 "nbformat_minor": 1
}
