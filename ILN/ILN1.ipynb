{
 "cells": [
  {
   "cell_type": "markdown",
   "metadata": {},
   "source": [
    "# ILN1: Índices de legibilidad de los textos del corpus Brown "
   ]
  },
  {
   "cell_type": "raw",
   "metadata": {},
   "source": [
    "Para medir la dificultad de lectura de un texto se definen ciertas medidas de legibilidad; de este modo se pueden seleccionar los textos más adecuados según el nivel de conocimiento de la lengua que tenga el lector.\n",
    "\n",
    "Sea nlpw el número medio de letras por palabras y npxf el número medio de palabras por frase de un texto; suponiendo definido el Índice Automático de Legibilidad IAL del texto como:\n",
    "\n",
    "IAL = 4.71 * nlpw + 0.5 * npxf - 21.43\n",
    "\n",
    "Se pide escribir un programa python para calcular el valor de IAL para las diferentes secciones, o categorías, del Corpus Brown y mostrar una tabla en la que figuren todas las categorías y sus IALs."
   ]
  },
  {
   "cell_type": "raw",
   "metadata": {},
   "source": [
    "Escribe el código python y ejecútalo:"
   ]
  },
  {
   "cell_type": "code",
   "execution_count": 4,
   "metadata": {},
   "outputs": [
    {
     "name": "stderr",
     "output_type": "stream",
     "text": [
      "[nltk_data] Downloading package brown to\n",
      "[nltk_data]     C:\\Users\\jmfel\\AppData\\Roaming\\nltk_data...\n",
      "[nltk_data]   Package brown is already up-to-date!\n"
     ]
    },
    {
     "name": "stdout",
     "output_type": "stream",
     "text": [
      "IAL        Category  \n",
      "4.08       adventure \n",
      "me cago en mi puta vida ¡que mierda es esta!\n",
      "10.99      belles_lettres\n",
      "me cago en mi puta vida ¡que mierda es esta!\n",
      "9.47       editorial \n",
      "me cago en mi puta vida ¡que mierda es esta!\n",
      "4.91       fiction   \n",
      "me cago en mi puta vida ¡que mierda es esta!\n",
      "12.08      government\n",
      "me cago en mi puta vida ¡que mierda es esta!\n",
      "8.92       hobbies   \n",
      "me cago en mi puta vida ¡que mierda es esta!\n",
      "7.89       humor     \n",
      "me cago en mi puta vida ¡que mierda es esta!\n",
      "11.93      learned   \n",
      "me cago en mi puta vida ¡que mierda es esta!\n",
      "10.25      lore      \n",
      "me cago en mi puta vida ¡que mierda es esta!\n",
      "3.83       mystery   \n",
      "me cago en mi puta vida ¡que mierda es esta!\n",
      "10.18      news      \n",
      "me cago en mi puta vida ¡que mierda es esta!\n",
      "10.20      religion  \n",
      "me cago en mi puta vida ¡que mierda es esta!\n",
      "10.77      reviews   \n",
      "me cago en mi puta vida ¡que mierda es esta!\n",
      "4.35       romance   \n",
      "me cago en mi puta vida ¡que mierda es esta!\n",
      "4.98       science_fiction\n",
      "me cago en mi puta vida ¡que mierda es esta!\n"
     ]
    }
   ],
   "source": [
    "import nltk\n",
    "import matplotlib.pylab as plt\n",
    "from nltk.corpus import brown\n",
    "nltk.download('brown')\n",
    "corpus = nltk.corpus.brown\n",
    "print(\"{:<10} {:<10}\".format('IAL', 'Category'))\n",
    "for category in corpus.categories(): \n",
    "    words_len = []\n",
    "    words_per_sentence = []\n",
    "    for word in corpus.words(categories = category):\n",
    "        words_len.append(len(word))\n",
    "    for sentence in corpus.sents(categories = category):\n",
    "        words_per_sentence.append(len(sentence))\n",
    "    nlpw = sum(words_len)/len(words_len)\n",
    "    npxf = sum(words_per_sentence)/len(words_per_sentence)\n",
    "    IAL = 4.71 * nlpw + 0.5 * npxf - 21.43\n",
    "    print(\"{:<10.2f} {:<10}\".format(IAL, category))\n"
   ]
  },
  {
   "cell_type": "code",
   "execution_count": null,
   "metadata": {},
   "outputs": [],
   "source": []
  },
  {
   "cell_type": "code",
   "execution_count": null,
   "metadata": {},
   "outputs": [],
   "source": []
  }
 ],
 "metadata": {
  "kernelspec": {
   "display_name": "Python 3",
   "language": "python",
   "name": "python3"
  },
  "language_info": {
   "codemirror_mode": {
    "name": "ipython",
    "version": 3
   },
   "file_extension": ".py",
   "mimetype": "text/x-python",
   "name": "python",
   "nbconvert_exporter": "python",
   "pygments_lexer": "ipython3",
   "version": "3.7.4"
  }
 },
 "nbformat": 4,
 "nbformat_minor": 1
}
