{
 "cells": [
  {
   "cell_type": "markdown",
   "metadata": {},
   "source": [
    "# Ejemplos POS Tagging"
   ]
  },
  {
   "cell_type": "markdown",
   "metadata": {},
   "source": [
    "1.- Aprendizaje y evaluación de etiquetadores basados en unigramas y bigramas"
   ]
  },
  {
   "cell_type": "code",
   "execution_count": 1,
   "metadata": {},
   "outputs": [],
   "source": [
    "import pprint\n",
    "from nltk.tag import UnigramTagger, BigramTagger, TrigramTagger\n",
    "from nltk.corpus import treebank"
   ]
  },
  {
   "cell_type": "raw",
   "metadata": {},
   "source": [
    "(a) Definición del conjunto de frases de entrenamiento (el 90%)"
   ]
  },
  {
   "cell_type": "code",
   "execution_count": 2,
   "metadata": {},
   "outputs": [],
   "source": [
    "talla = int(len(treebank.tagged_sents()) * 0.9)\n",
    "train_sents = treebank.tagged_sents(tagset = 'universal')[:talla]"
   ]
  },
  {
   "cell_type": "raw",
   "metadata": {},
   "source": [
    "(b) Aprendizaje del modelo de unigramas"
   ]
  },
  {
   "cell_type": "code",
   "execution_count": 3,
   "metadata": {},
   "outputs": [],
   "source": [
    "unigram_tagger = UnigramTagger(train_sents)"
   ]
  },
  {
   "cell_type": "raw",
   "metadata": {},
   "source": [
    "(c) Aprendizaje modelo de bigramas"
   ]
  },
  {
   "cell_type": "code",
   "execution_count": 4,
   "metadata": {},
   "outputs": [],
   "source": [
    "bigram_tagger = BigramTagger(train_sents)"
   ]
  },
  {
   "cell_type": "raw",
   "metadata": {},
   "source": [
    "(d) Evaluación, considerando el resto de frases como conjunto de prueba"
   ]
  },
  {
   "cell_type": "code",
   "execution_count": 5,
   "metadata": {},
   "outputs": [
    {
     "name": "stdout",
     "output_type": "stream",
     "text": [
      "Tasas de acierto:\n",
      "Unigramas: 3.91%\n",
      "Bigramas: 0.11%\n"
     ]
    }
   ],
   "source": [
    "test_sents = treebank.tagged_sents()[talla:]\n",
    "okUni = round(unigram_tagger.evaluate(test_sents) * 100, 2);\n",
    "okBi = round(bigram_tagger.evaluate(test_sents) * 100, 2);\n",
    "print(\"Tasas de acierto:\")\n",
    "print(\"Unigramas: \" + str(okUni) + \"%\")\n",
    "print(\"Bigramas: \" + str(okBi) + \"%\")"
   ]
  },
  {
   "cell_type": "raw",
   "metadata": {},
   "source": [
    "(e) Etiquetado de la primera frase del test"
   ]
  },
  {
   "cell_type": "code",
   "execution_count": 6,
   "metadata": {},
   "outputs": [
    {
     "name": "stdout",
     "output_type": "stream",
     "text": [
      "['In', 'early', 'trading', 'in', 'Tokyo', 'Thursday', ',', 'the', 'Nikkei', 'index', 'fell', '63.79', 'points', 'to', '35500.64', '.']\n",
      "[('In', 'IN'),\n",
      " ('early', 'JJ'),\n",
      " ('trading', 'NN'),\n",
      " ('in', 'IN'),\n",
      " ('Tokyo', 'NNP'),\n",
      " ('Thursday', 'NNP'),\n",
      " (',', ','),\n",
      " ('the', 'DT'),\n",
      " ('Nikkei', 'NN'),\n",
      " ('index', 'NN'),\n",
      " ('fell', 'VBD'),\n",
      " ('63.79', 'NN'),\n",
      " ('points', 'NNS'),\n",
      " ('to', 'TO'),\n",
      " ('35500.64', 'NN'),\n",
      " ('.', '.')]\n"
     ]
    },
    {
     "ename": "NameError",
     "evalue": "name 'bigram_tagger' is not defined",
     "output_type": "error",
     "traceback": [
      "\u001b[1;31m---------------------------------------------------------------------------\u001b[0m",
      "\u001b[1;31mNameError\u001b[0m                                 Traceback (most recent call last)",
      "\u001b[1;32m<ipython-input-6-f7f9c643dd1a>\u001b[0m in \u001b[0;36m<module>\u001b[1;34m\u001b[0m\n\u001b[0;32m      2\u001b[0m \u001b[0mprint\u001b[0m \u001b[1;33m(\u001b[0m\u001b[0msent1\u001b[0m\u001b[1;33m)\u001b[0m\u001b[1;33m\u001b[0m\u001b[1;33m\u001b[0m\u001b[0m\n\u001b[0;32m      3\u001b[0m \u001b[0mpprint\u001b[0m\u001b[1;33m.\u001b[0m\u001b[0mpprint\u001b[0m\u001b[1;33m(\u001b[0m\u001b[0munigram_tagger\u001b[0m\u001b[1;33m.\u001b[0m\u001b[0mtag\u001b[0m\u001b[1;33m(\u001b[0m\u001b[0msent1\u001b[0m\u001b[1;33m)\u001b[0m\u001b[1;33m)\u001b[0m\u001b[1;33m\u001b[0m\u001b[1;33m\u001b[0m\u001b[0m\n\u001b[1;32m----> 4\u001b[1;33m \u001b[0mpprint\u001b[0m\u001b[1;33m.\u001b[0m\u001b[0mpprint\u001b[0m\u001b[1;33m(\u001b[0m\u001b[0mbigram_tagger\u001b[0m\u001b[1;33m.\u001b[0m\u001b[0mtag\u001b[0m\u001b[1;33m(\u001b[0m\u001b[0msent1\u001b[0m\u001b[1;33m)\u001b[0m\u001b[1;33m)\u001b[0m\u001b[1;33m\u001b[0m\u001b[1;33m\u001b[0m\u001b[0m\n\u001b[0m",
      "\u001b[1;31mNameError\u001b[0m: name 'bigram_tagger' is not defined"
     ]
    }
   ],
   "source": [
    "sent1 = treebank.sents()[talla+1]\n",
    "print (sent1)\n",
    "pprint.pprint(unigram_tagger.tag(sent1))\n",
    "pprint.pprint(bigram_tagger.tag(sent1))"
   ]
  },
  {
   "cell_type": "markdown",
   "metadata": {},
   "source": [
    "2.- Definición y evaluación del etiquetador por defecto, usando la etiqueta más frecuente"
   ]
  },
  {
   "cell_type": "raw",
   "metadata": {},
   "source": [
    "(a) Definición del etiquetador por defecto"
   ]
  },
  {
   "cell_type": "code",
   "execution_count": 20,
   "metadata": {},
   "outputs": [],
   "source": [
    "import pprint\n",
    "from nltk.corpus import treebank\n",
    "from nltk.tag import DefaultTagger\n",
    "from nltk.probability import FreqDist\n",
    "tags = [tag for (word, tag) in treebank.tagged_words()]\n",
    "masFTag = FreqDist(tags).max()\n",
    "default_tagger = DefaultTagger(masFTag)"
   ]
  },
  {
   "cell_type": "raw",
   "metadata": {},
   "source": [
    "(b) Evaluación del etiquetador x defecto"
   ]
  },
  {
   "cell_type": "code",
   "execution_count": 21,
   "metadata": {},
   "outputs": [
    {
     "name": "stdout",
     "output_type": "stream",
     "text": [
      "0.14331966328512843\n"
     ]
    }
   ],
   "source": [
    "test_sents = treebank.tagged_sents()[3000:]\n",
    "print(default_tagger.evaluate(test_sents))"
   ]
  },
  {
   "cell_type": "raw",
   "metadata": {},
   "source": [
    "(c) Etiquetado de la primera frase del test"
   ]
  },
  {
   "cell_type": "code",
   "execution_count": 22,
   "metadata": {},
   "outputs": [
    {
     "name": "stdout",
     "output_type": "stream",
     "text": [
      "['First', 'of', 'America', 'said', '0', 'some', 'of', 'the', 'managers', 'will', 'take', 'other', 'jobs', 'with', 'First', 'of', 'America', '.']\n",
      "[('First', 'NN'),\n",
      " ('of', 'NN'),\n",
      " ('America', 'NN'),\n",
      " ('said', 'NN'),\n",
      " ('0', 'NN'),\n",
      " ('some', 'NN'),\n",
      " ('of', 'NN'),\n",
      " ('the', 'NN'),\n",
      " ('managers', 'NN'),\n",
      " ('will', 'NN'),\n",
      " ('take', 'NN'),\n",
      " ('other', 'NN'),\n",
      " ('jobs', 'NN'),\n",
      " ('with', 'NN'),\n",
      " ('First', 'NN'),\n",
      " ('of', 'NN'),\n",
      " ('America', 'NN'),\n",
      " ('.', 'NN')]\n"
     ]
    }
   ],
   "source": [
    "sent1 = treebank.sents()[talla+1]\n",
    "print(sent1)\n",
    "tag = default_tagger.tag(sent1)\n",
    "pprint.pprint(tag)"
   ]
  },
  {
   "cell_type": "markdown",
   "metadata": {},
   "source": [
    "3.- Definición y evaluación de un etiquetador usando backoff"
   ]
  },
  {
   "cell_type": "raw",
   "metadata": {},
   "source": [
    "(a) Definición del etiquetador backoff"
   ]
  },
  {
   "cell_type": "code",
   "execution_count": 7,
   "metadata": {},
   "outputs": [],
   "source": [
    "import pprint\n",
    "from nltk.corpus import treebank\n",
    "from nltk.tag import DefaultTagger, UnigramTagger, BigramTagger\n",
    "from nltk.probability import FreqDist\n",
    "tags = [tag for (word, tag) in treebank.tagged_words()]\n",
    "masFTag = FreqDist(tags).max()\n",
    "default_tagger = DefaultTagger(masFTag)\n",
    "\n",
    "talla = 3000\n",
    "train_sents = treebank.tagged_sents()[:talla]\n",
    "unigram_tagger = UnigramTagger(train_sents, backoff = default_tagger)\n",
    "backoff_tagger = BigramTagger(train_sents, backoff= unigram_tagger)"
   ]
  },
  {
   "cell_type": "raw",
   "metadata": {},
   "source": [
    "(b) Evaluación del etiquetador backoff"
   ]
  },
  {
   "cell_type": "code",
   "execution_count": 8,
   "metadata": {},
   "outputs": [
    {
     "name": "stdout",
     "output_type": "stream",
     "text": [
      "Bigramas - backoff: 88.1%\n"
     ]
    }
   ],
   "source": [
    "test_sents = treebank.tagged_sents()[talla:]\n",
    "okTriBO = round(backoff_tagger.evaluate(test_sents) * 100, 2);\n",
    "print(\"Bigramas - backoff: \" + str(okTriBO) + \"%\")"
   ]
  },
  {
   "cell_type": "raw",
   "metadata": {},
   "source": [
    "(c) Etiquetado de la primera frase del test"
   ]
  },
  {
   "cell_type": "code",
   "execution_count": 9,
   "metadata": {},
   "outputs": [
    {
     "name": "stdout",
     "output_type": "stream",
     "text": [
      "['In', 'early', 'trading', 'in', 'Tokyo', 'Thursday', ',', 'the', 'Nikkei', 'index', 'fell', '63.79', 'points', 'to', '35500.64', '.']\n"
     ]
    }
   ],
   "source": [
    "sent1 = treebank.sents()[talla+1]\n",
    "print(sent1)\n",
    "#tag = backoff_tagger.tag(sent1)\n",
    "#pprint.pprint(tag)"
   ]
  },
  {
   "cell_type": "code",
   "execution_count": null,
   "metadata": {},
   "outputs": [],
   "source": []
  }
 ],
 "metadata": {
  "anaconda-cloud": {},
  "kernelspec": {
   "display_name": "Python 3",
   "language": "python",
   "name": "python3"
  },
  "language_info": {
   "codemirror_mode": {
    "name": "ipython",
    "version": 3
   },
   "file_extension": ".py",
   "mimetype": "text/x-python",
   "name": "python",
   "nbconvert_exporter": "python",
   "pygments_lexer": "ipython3",
   "version": "3.7.4"
  }
 },
 "nbformat": 4,
 "nbformat_minor": 1
}
