{
 "cells": [
  {
   "cell_type": "markdown",
   "metadata": {},
   "source": [
    "# ILN 2: POS Tagging"
   ]
  },
  {
   "cell_type": "raw",
   "metadata": {},
   "source": [
    "Evaluación de etiquetadores de n-gramas sobre el corpus treebank utilizando el método de validación cruzada: 10% de frases de test y el resto de entrenamiento,validando sobre 10 particiones diferentes. Considera los modelos: unigramas, bigramas y bigramas con backoff."
   ]
  },
  {
   "cell_type": "raw",
   "metadata": {},
   "source": [
    "(a) Busca la etiqueta POS más frecuente en el corpus para construir un etiquetador por defecto: siempre asocia la etiqueta más frecuente en el corpus"
   ]
  },
  {
   "cell_type": "code",
   "execution_count": 6,
   "metadata": {},
   "outputs": [
    {
     "name": "stderr",
     "output_type": "stream",
     "text": [
      "[nltk_data] Downloading package treebank to\n",
      "[nltk_data]     C:\\Users\\jmfel\\AppData\\Roaming\\nltk_data...\n",
      "[nltk_data]   Package treebank is already up-to-date!\n",
      "[nltk_data] Downloading package universal_tagset to\n",
      "[nltk_data]     C:\\Users\\jmfel\\AppData\\Roaming\\nltk_data...\n",
      "[nltk_data]   Package universal_tagset is already up-to-date!\n"
     ]
    }
   ],
   "source": [
    "import pprint\n",
    "import nltk\n",
    "from nltk.probability import FreqDist\n",
    "import matplotlib.pylab as plt\n",
    "from nltk.tag import UnigramTagger, BigramTagger, TrigramTagger, DefaultTagger\n",
    "from nltk.corpus import treebank\n",
    "nltk.download('treebank')\n",
    "nltk.download('universal_tagset')\n",
    "\n",
    "tags = [tag for (word, tag) in treebank.tagged_words()]\n",
    "masFTag = FreqDist(tags).max()\n",
    "default_tagger = DefaultTagger(masFTag)\n",
    "\n"
   ]
  },
  {
   "cell_type": "raw",
   "metadata": {},
   "source": [
    "(b) Escribe código para realizar la validación sobre 10 particiones: Cada partición usa como test un 10% de las frases diferente en cada caso y el resto de frases conforman el conjunto de prueba. Se suman las tasas de acierto en cada modelo en cada partición y se promedia"
   ]
  },
  {
   "cell_type": "code",
   "execution_count": 7,
   "metadata": {
    "scrolled": true
   },
   "outputs": [
    {
     "name": "stdout",
     "output_type": "stream",
     "text": [
      "Tasas de acierto:\n",
      "Unigramas: 75.24199999999999%\n",
      "Bigramas: 6.333%\n",
      "Bigramas - backoff: 75.652%\n"
     ]
    }
   ],
   "source": [
    "particiones = 10\n",
    "parts = int(len(treebank.tagged_sents(tagset = 'universal'))/particiones)\n",
    "tagged_splited_sents = zip(*[iter(treebank.tagged_sents(tagset = 'universal'))]*parts)\n",
    "\n",
    "unigram_10 = 0\n",
    "bigram_10 = 0\n",
    "backoff_10 = 0\n",
    "\n",
    "for tagged_sents in tagged_splited_sents:\n",
    "    talla = int(len(tagged_sents) * 0.9)\n",
    "    train_sents = tagged_sents[:talla]\n",
    "    test_sents = tagged_sents[talla:]\n",
    "    unigram_tagger = UnigramTagger(train_sents)\n",
    "    bigram_tagger = BigramTagger(train_sents)\n",
    "\n",
    "    unigram_10 = unigram_10 + round(unigram_tagger.evaluate(test_sents) * 100, 2)\n",
    "    bigram_10 = bigram_10 + round(bigram_tagger.evaluate(test_sents) * 100, 2)\n",
    "    backoff_tagger = BigramTagger(train_sents, backoff= unigram_tagger)\n",
    "    backoff_10 = backoff_10 + round(backoff_tagger.evaluate(test_sents) * 100, 2);\n",
    "    \n",
    "\n",
    "print(\"Tasas de acierto:\")\n",
    "print(\"Unigramas: \" + str(unigram_10/particiones) + \"%\")\n",
    "print(\"Bigramas: \" + str(bigram_10/particiones) + \"%\")\n",
    "print(\"Bigramas - backoff: \" + str(backoff_10/particiones) + \"%\")"
   ]
  },
  {
   "cell_type": "raw",
   "metadata": {},
   "source": [
    "(c) Escribe código para etiquetar la frase \"Are you exaggerating or have you got the wrong figures?\"  utilizando los tres modelos aprendidos. "
   ]
  },
  {
   "cell_type": "code",
   "execution_count": 109,
   "metadata": {
    "scrolled": true
   },
   "outputs": [
    {
     "name": "stdout",
     "output_type": "stream",
     "text": [
      "[('Are', None),\n",
      " ('you', 'PRON'),\n",
      " ('exaggerating', None),\n",
      " ('or', 'CONJ'),\n",
      " ('have', 'VERB'),\n",
      " ('you', 'PRON'),\n",
      " ('got', None),\n",
      " ('the', 'DET'),\n",
      " ('wrong', None),\n",
      " ('figures', 'NOUN'),\n",
      " ('?', '.')]\n",
      "[('Are', None),\n",
      " ('you', None),\n",
      " ('exaggerating', None),\n",
      " ('or', None),\n",
      " ('have', None),\n",
      " ('you', None),\n",
      " ('got', None),\n",
      " ('the', None),\n",
      " ('wrong', None),\n",
      " ('figures', None),\n",
      " ('?', None)]\n",
      "[('Are', None),\n",
      " ('you', 'PRON'),\n",
      " ('exaggerating', None),\n",
      " ('or', 'CONJ'),\n",
      " ('have', 'VERB'),\n",
      " ('you', 'PRON'),\n",
      " ('got', None),\n",
      " ('the', 'DET'),\n",
      " ('wrong', None),\n",
      " ('figures', 'NOUN'),\n",
      " ('?', '.')]\n"
     ]
    }
   ],
   "source": [
    "from nltk.tokenize import word_tokenize\n",
    "\n",
    "sent = \"Are you exaggerating or have you got the wrong figures?\"\n",
    "sent = word_tokenize(sent)\n",
    "\n",
    "\n",
    "tag = unigram_tagger.tag(sent)\n",
    "tag2 = bigram_tagger.tag(sent)\n",
    "tag3 = backoff_tagger.tag(sent)\n",
    "\n",
    "pprint.pprint(tag)\n",
    "pprint.pprint(tag2)\n",
    "pprint.pprint(tag3)"
   ]
  }
 ],
 "metadata": {
  "anaconda-cloud": {},
  "kernelspec": {
   "display_name": "Python 3",
   "language": "python",
   "name": "python3"
  },
  "language_info": {
   "codemirror_mode": {
    "name": "ipython",
    "version": 3
   },
   "file_extension": ".py",
   "mimetype": "text/x-python",
   "name": "python",
   "nbconvert_exporter": "python",
   "pygments_lexer": "ipython3",
   "version": "3.7.4"
  }
 },
 "nbformat": 4,
 "nbformat_minor": 1
}
