{
 "cells": [
  {
   "cell_type": "markdown",
   "metadata": {},
   "source": [
    "# Tarea 1: Python y NLTK\n",
    "\n",
    "Para medir la dificultad de lectura de un texto se definen ciertas medidas de legibilidad; de este modo se pueden seleccionar los textos más adecuados según el nivel de conocimiento de la lengua que tenga el lector.\n",
    "\n",
    "Sea nlpw el número medio de letras por palabras y npxf el número medio de palabras por frase de un texto; suponiendo definido el Índice Automático de Legibilidad IAL del texto como:\n",
    "\n",
    "IAL = 4.71 * nlpw + 0.5 * npxf - 21.43\n",
    "\n",
    "Se pide completar el notebook de  python que se adjunta para calcular el valor de IAL para las diferentes secciones, o categorías, del Corpus Brown y mostrar una tabla en la que figuren todas las categorías y sus IALs.\n",
    "\n",
    "Como resultado del trabajo se debe adjuntar el notebook completo incluyendo el código y su ejecución."
   ]
  }
 ],
 "metadata": {
  "kernelspec": {
   "display_name": "Python 3",
   "language": "python",
   "name": "python3"
  },
  "language_info": {
   "codemirror_mode": {
    "name": "ipython",
    "version": 3
   },
   "file_extension": ".py",
   "mimetype": "text/x-python",
   "name": "python",
   "nbconvert_exporter": "python",
   "pygments_lexer": "ipython3",
   "version": "3.7.4"
  }
 },
 "nbformat": 4,
 "nbformat_minor": 2
}
