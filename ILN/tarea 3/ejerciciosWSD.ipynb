{
 "cells": [
  {
   "cell_type": "markdown",
   "metadata": {},
   "source": [
    "# Ejercicios WSD"
   ]
  },
  {
   "cell_type": "raw",
   "metadata": {},
   "source": [
    "1.- Define una función python que dada una palabra y su categoría muestre el número de sentidos (synsets) que tiene en wordnet y para cada uno de ellos: el identificador del synset, su definición, ejemplos de uso y sus sinónimos (o lemas). Si no se indica categoría debe mostrar todos los sentidos y la información relacionada para todas las categorías. "
   ]
  },
  {
   "cell_type": "code",
   "execution_count": 9,
   "metadata": {},
   "outputs": [],
   "source": [
    "import nltk\n",
    "#nltk.download('wordnet')\n",
    "from nltk.corpus import wordnet as wn\n",
    "\n",
    "def ejercicio1_v1(word,category):\n",
    "    count = 0\n",
    "    list = wn.synsets(word)\n",
    "    for synset in wn.synsets(word,category):\n",
    "        print(\"Identifier : \" + str(list[count]))\n",
    "        print(\"Definition  \"+ str(count) + \": \"+ synset.definition())\n",
    "        print(\"Examples :\" + str(synset.examples()))\n",
    "        print(\"Lemmas :\" + str(synset.lemma_names()))\n",
    "        print()\n",
    "        count += 1\n",
    "        \n",
    "def ejercicio1_v2(word):\n",
    "    count = 0\n",
    "    list = wn.synsets(word)\n",
    "    for synset in wn.synsets(word):\n",
    "        print(\"Identifier : \" + str(list[count]))\n",
    "        print(\"Definition  \"+ str(count) + \": \"+ synset.definition())\n",
    "        print(\"Examples :\" + str(synset.examples()))\n",
    "        print(\"Lemmas :\" + str(synset.lemma_names())) \n",
    "        print()\n",
    "        count += 1"
   ]
  },
  {
   "cell_type": "raw",
   "metadata": {},
   "source": [
    "2.- Ejecuta la función anterior para la palabra \"dish\"."
   ]
  },
  {
   "cell_type": "code",
   "execution_count": 11,
   "metadata": {},
   "outputs": [
    {
     "name": "stdout",
     "output_type": "stream",
     "text": [
      "Identifier : Synset('dish.n.01')\n",
      "Definition  0: a piece of dishware normally used as a container for holding or serving food\n",
      "Examples :['we gave them a set of dishes for a wedding present']\n",
      "Lemmas :['dish']\n",
      "\n",
      "Synset abstract term :   [Synset('bag.n.01'), Synset('bag.n.04'), Synset('basket.n.01'), Synset('bin.n.01'), Synset('bowl.n.08'), Synset('box.n.01'), Synset('bread-bin.n.01'), Synset('bunker.n.02'), Synset('can.n.01'), Synset('canister.n.02'), Synset('capsule.n.01'), Synset('cargo_container.n.01'), Synset('case.n.05'), Synset('case.n.20'), Synset('cassette.n.01'), Synset('cup.n.01'), Synset('cylinder.n.04'), Synset('dice_cup.n.01'), Synset('dish.n.01'), Synset('dispenser.n.01'), Synset('drawer.n.01'), Synset('dumpster.n.01'), Synset('empty.n.01'), Synset('envelope.n.01'), Synset('glass.n.02'), Synset('grab_bag.n.02'), Synset('magnetic_bottle.n.01'), Synset('mailer.n.04'), Synset('manger.n.01'), Synset('measure.n.09'), Synset('mold.n.02'), Synset('package.n.02'), Synset('pan.n.03'), Synset('pod.n.04'), Synset('pot.n.04'), Synset('powder_horn.n.01'), Synset('receptacle.n.01'), Synset('reliquary.n.01'), Synset('saltcellar.n.01'), Synset('savings_bank.n.02'), Synset('scuttle.n.01'), Synset('shaker.n.03'), Synset('spoon.n.01'), Synset('storage_ring.n.01'), Synset('thimble.n.02'), Synset('time_capsule.n.01'), Synset('vessel.n.03'), Synset('wastepaper_basket.n.01'), Synset('watering_can.n.01'), Synset('wheeled_vehicle.n.01'), Synset('workbasket.n.01')]\n",
      "\n",
      "Identifier : Synset('dish.n.02')\n",
      "Definition  1: a particular item of prepared food\n",
      "Examples :['she prepared a special dish for dinner']\n",
      "Lemmas :['dish']\n",
      "\n",
      "Synset abstract term :   [Synset('course.n.07'), Synset('dainty.n.01'), Synset('dish.n.02'), Synset('fast_food.n.01'), Synset('finger_food.n.01'), Synset('ingesta.n.01'), Synset('kosher.n.01'), Synset('meal.n.01'), Synset('mess.n.03'), Synset('milk.n.02'), Synset('mince.n.01'), Synset('puree.n.01'), Synset('stodge.n.01'), Synset('vitamin.n.01'), Synset('wheat_germ.n.01')]\n",
      "\n",
      "Identifier : Synset('dish.n.03')\n",
      "Definition  2: the quantity that a dish will hold\n",
      "Examples :['they served me a dish of rice']\n",
      "Lemmas :['dish', 'dishful']\n",
      "\n",
      "Synset abstract term :   [Synset('armful.n.01'), Synset('bag.n.05'), Synset('barnful.n.01'), Synset('barrel.n.04'), Synset('barrow.n.01'), Synset('basin.n.02'), Synset('basket.n.02'), Synset('bin.n.02'), Synset('bottle.n.02'), Synset('bowl.n.04'), Synset('box.n.03'), Synset('bucket.n.02'), Synset('can.n.02'), Synset('capful.n.01'), Synset('carful.n.01'), Synset('cartload.n.01'), Synset('carton.n.01'), Synset('case.n.10'), Synset('cask.n.01'), Synset('crate.n.02'), Synset('cup.n.02'), Synset('dessertspoon.n.01'), Synset('dish.n.03'), Synset('dustpan.n.01'), Synset('flask.n.02'), Synset('glass.n.03'), Synset('handful.n.02'), Synset('hatful.n.02'), Synset('headful.n.01'), Synset('houseful.n.01'), Synset('jar.n.02'), Synset('jug.n.02'), Synset('keg.n.01'), Synset('kettle.n.02'), Synset('lapful.n.01'), Synset('mouthful.n.01'), Synset('mug.n.01'), Synset('pail.n.02'), Synset('pipeful.n.01'), Synset('pitcher.n.03'), Synset('plate.n.05'), Synset('pocketful.n.01'), Synset('pot.n.03'), Synset('roomful.n.01'), Synset('sack.n.03'), Synset('scoop.n.01'), Synset('shelfful.n.01'), Synset('shoeful.n.01'), Synset('shovel.n.02'), Synset('skepful.n.01'), Synset('spoon.n.02'), Synset('tablespoon.n.01'), Synset('tank.n.03'), Synset('teacup.n.01'), Synset('teaspoon.n.01'), Synset('thimble.n.01'), Synset('tub.n.03')]\n",
      "\n",
      "Identifier : Synset('smasher.n.02')\n",
      "Definition  3: a very attractive or seductive looking woman\n",
      "Examples :[]\n",
      "Lemmas :['smasher', 'stunner', 'knockout', 'beauty', 'ravisher', 'sweetheart', 'peach', 'lulu', 'looker', 'mantrap', 'dish']\n",
      "\n",
      "Synset abstract term :   [Synset('amazon.n.01'), Synset('b-girl.n.01'), Synset('bachelor_girl.n.01'), Synset('baggage.n.02'), Synset('ball-buster.n.01'), Synset('black_woman.n.01'), Synset('bluestocking.n.01'), Synset('bridesmaid.n.01'), Synset('broad.n.01'), Synset('cat.n.03'), Synset('cinderella.n.01'), Synset('coquette.n.01'), Synset('dame.n.02'), Synset('debutante.n.01'), Synset('divorcee.n.01'), Synset('dominatrix.n.01'), Synset('donna.n.01'), Synset('enchantress.n.01'), Synset('ex-wife.n.01'), Synset('eyeful.n.01'), Synset('geisha.n.01'), Synset('girl.n.01'), Synset('girl.n.05'), Synset('girlfriend.n.01'), Synset('girlfriend.n.02'), Synset('gold_digger.n.02'), Synset('gravida.n.02'), Synset('heroine.n.02'), Synset('inamorata.n.01'), Synset('jezebel.n.02'), Synset('jilt.n.01'), Synset('lady.n.01'), Synset('maenad.n.01'), Synset('maenad.n.02'), Synset('matriarch.n.01'), Synset('matriarch.n.02'), Synset('matron.n.03'), Synset('mestiza.n.01'), Synset('mistress.n.01'), Synset('mother_figure.n.01'), Synset('nanny.n.01'), Synset('nullipara.n.01'), Synset('nymph.n.03'), Synset('nymphet.n.01'), Synset('old_woman.n.01'), Synset('prostitute.n.01'), Synset('shiksa.n.01'), Synset('smasher.n.02'), Synset('sylph.n.01'), Synset('unmarried_woman.n.01'), Synset('vestal.n.01'), Synset('wac.n.01'), Synset('wave.n.09'), Synset('white_woman.n.01'), Synset('widow.n.01'), Synset('wife.n.01'), Synset('wonder_woman.n.01'), Synset('yellow_woman.n.01')]\n",
      "\n",
      "Identifier : Synset('dish.n.05')\n",
      "Definition  4: directional antenna consisting of a parabolic reflector for microwave or radio frequency radiation\n",
      "Examples :[]\n",
      "Lemmas :['dish', 'dish_aerial', 'dish_antenna', 'saucer']\n",
      "\n",
      "Synset abstract term :   [Synset('array.n.04'), Synset('dish.n.05'), Synset('yagi.n.01')]\n",
      "\n",
      "Identifier : Synset('cup_of_tea.n.01')\n",
      "Definition  5: an activity that you like or at which you are superior\n",
      "Examples :['chemistry is not my cup of tea', 'his bag now is learning to play golf', 'marriage was scarcely his dish']\n",
      "Lemmas :['cup_of_tea', 'bag', 'dish']\n",
      "\n",
      "Synset abstract term :   [Synset('acting.n.01'), Synset('aid.n.02'), Synset('attempt.n.01'), Synset('behavior.n.01'), Synset('behavior.n.04'), Synset('burst.n.03'), Synset('buzz.n.02'), Synset('calibration.n.01'), Synset('ceremony.n.02'), Synset('ceremony.n.03'), Synset('concealment.n.03'), Synset('continuance.n.01'), Synset('control.n.05'), Synset('creation.n.01'), Synset('cup_of_tea.n.01'), Synset('demand.n.04'), Synset('dismantling.n.01'), Synset('diversion.n.01'), Synset('domesticity.n.02'), Synset('education.n.01'), Synset('energizing.n.01'), Synset('enjoyment.n.02'), Synset('follow-up.n.02'), Synset('fun.n.03'), Synset('game.n.01'), Synset('grouping.n.02'), Synset('lamentation.n.02'), Synset('last.n.03'), Synset('laughter.n.02'), Synset('leadership.n.01'), Synset('liveliness.n.01'), Synset('market.n.01'), Synset('measurement.n.01'), Synset('music.n.03'), Synset('mystification.n.03'), Synset('negotiation.n.02'), Synset('occupation.n.01'), Synset('occupation.n.03'), Synset('operation.n.03'), Synset('operation.n.05'), Synset('operation.n.11'), Synset('organization.n.06'), Synset('perturbation.n.03'), Synset('placement.n.03'), Synset('pleasure.n.04'), Synset('politics.n.05'), Synset('practice.n.01'), Synset('precession.n.02'), Synset('preparation.n.01'), Synset('procedure.n.01'), Synset('protection.n.01'), Synset('provision.n.02'), Synset('puncture.n.03'), Synset('release.n.09'), Synset('representation.n.10'), Synset('role.n.04'), Synset('search.n.01'), Synset('sensory_activity.n.01'), Synset('service.n.11'), Synset('sin.n.06'), Synset('solo.n.01'), Synset('space_walk.n.01'), Synset('support.n.01'), Synset('support.n.08'), Synset('timekeeping.n.01'), Synset('training.n.01'), Synset('turn.n.03'), Synset('use.n.01'), Synset('variation.n.02'), Synset('verbalization.n.02'), Synset('waste.n.02'), Synset('work.n.01'), Synset('works.n.03'), Synset('worship.n.01'), Synset('writing.n.05'), Synset('wrongdoing.n.02')]\n",
      "\n",
      "Identifier : Synset('serve.v.06')\n",
      "Definition  6: provide (usually but not necessarily food)\n",
      "Examples :['We serve meals for the homeless', 'She dished out the soup at 8 P.M.', 'The entertainers served up a lively show']\n",
      "Lemmas :['serve', 'serve_up', 'dish_out', 'dish_up', 'dish']\n",
      "\n",
      "Synset abstract term :   [Synset('accommodate.v.03'), Synset('board.v.04'), Synset('cater.v.02'), Synset('drench.v.02'), Synset('feed.v.01'), Synset('feed.v.02'), Synset('feed.v.07'), Synset('fix_up.v.01'), Synset('gratify.v.02'), Synset('gutter.v.04'), Synset('horse.v.01'), Synset('meet.v.04'), Synset('nourish.v.01'), Synset('pander.v.02'), Synset('power.v.01'), Synset('regale.v.01'), Synset('serve.v.05'), Synset('serve.v.06'), Synset('shower.v.05'), Synset('staff.v.01'), Synset('underlay.v.03')]\n",
      "\n",
      "Identifier : Synset('dish.v.02')\n",
      "Definition  7: make concave; shape like a dish\n",
      "Examples :[]\n",
      "Lemmas :['dish']\n",
      "\n",
      "Synset abstract term :   [Synset('block.v.14'), Synset('block.v.15'), Synset('blow.v.06'), Synset('crystallize.v.01'), Synset('cup.v.01'), Synset('deform.v.05'), Synset('dimension.v.02'), Synset('dish.v.02'), Synset('draw.v.35'), Synset('encircle.v.01'), Synset('fit.v.04'), Synset('flatten.v.01'), Synset('fork.v.04'), Synset('individuate.v.02'), Synset('plume.v.05'), Synset('ridge.v.05'), Synset('roll.v.08'), Synset('round.v.02'), Synset('scallop.v.05'), Synset('sliver.v.03'), Synset('square.v.01'), Synset('strike.v.11'), Synset('tabulate.v.02'), Synset('terrace.v.02'), Synset('tie.v.05'), Synset('turn.v.13'), Synset('twist.v.05')]\n",
      "\n"
     ]
    }
   ],
   "source": [
    "ejercicio1_v2(\"dish\")"
   ]
  },
  {
   "cell_type": "raw",
   "metadata": {},
   "source": [
    "3.- Ejecuta la función anterior para la palabra dish con categoria nombre"
   ]
  },
  {
   "cell_type": "code",
   "execution_count": 98,
   "metadata": {},
   "outputs": [
    {
     "name": "stdout",
     "output_type": "stream",
     "text": [
      "Identifier : Synset('dish.n.01')\n",
      "Definition  0: a piece of dishware normally used as a container for holding or serving food\n",
      "Examples :['we gave them a set of dishes for a wedding present']\n",
      "Lemmas :['dish']\n",
      "\n",
      "Identifier : Synset('dish.n.02')\n",
      "Definition  1: a particular item of prepared food\n",
      "Examples :['she prepared a special dish for dinner']\n",
      "Lemmas :['dish']\n",
      "\n",
      "Identifier : Synset('dish.n.03')\n",
      "Definition  2: the quantity that a dish will hold\n",
      "Examples :['they served me a dish of rice']\n",
      "Lemmas :['dish', 'dishful']\n",
      "\n",
      "Identifier : Synset('smasher.n.02')\n",
      "Definition  3: a very attractive or seductive looking woman\n",
      "Examples :[]\n",
      "Lemmas :['smasher', 'stunner', 'knockout', 'beauty', 'ravisher', 'sweetheart', 'peach', 'lulu', 'looker', 'mantrap', 'dish']\n",
      "\n",
      "Identifier : Synset('dish.n.05')\n",
      "Definition  4: directional antenna consisting of a parabolic reflector for microwave or radio frequency radiation\n",
      "Examples :[]\n",
      "Lemmas :['dish', 'dish_aerial', 'dish_antenna', 'saucer']\n",
      "\n",
      "Identifier : Synset('cup_of_tea.n.01')\n",
      "Definition  5: an activity that you like or at which you are superior\n",
      "Examples :['chemistry is not my cup of tea', 'his bag now is learning to play golf', 'marriage was scarcely his dish']\n",
      "Lemmas :['cup_of_tea', 'bag', 'dish']\n",
      "\n"
     ]
    }
   ],
   "source": [
    "ejercicio1_v1(\"dish\",wn.NOUN)"
   ]
  },
  {
   "cell_type": "raw",
   "metadata": {},
   "source": [
    "4.- Define una función python que dada una frase, la tokenize y muestre por pantalla, para cada palabra con contenido (no stopwords), su grado de ambigüedad."
   ]
  },
  {
   "cell_type": "code",
   "execution_count": 109,
   "metadata": {},
   "outputs": [],
   "source": [
    "def ambiguedad(sentence):\n",
    "    list = nltk.word_tokenize(sentence)\n",
    "    stopwords = nltk.corpus.stopwords.words('english')\n",
    "    contentwords = [w for w in list if w.lower() not in stopwords]\n",
    "\n",
    "    for word in contentwords:\n",
    "        print(word + \": \"+ str(len(wn.synsets(word))))"
   ]
  },
  {
   "cell_type": "raw",
   "metadata": {},
   "source": [
    "5.- Ejecuta la función que acabas de definir sobre la frase \"I saw a man who is 98 years old and can still walk and tell jokes\""
   ]
  },
  {
   "cell_type": "code",
   "execution_count": 110,
   "metadata": {},
   "outputs": [
    {
     "name": "stdout",
     "output_type": "stream",
     "text": [
      "saw: 28\n",
      "man: 13\n",
      "98: 1\n",
      "years: 7\n",
      "old: 9\n",
      "still: 18\n",
      "walk: 17\n",
      "tell: 9\n",
      "jokes: 6\n"
     ]
    }
   ],
   "source": [
    "ambiguedad(\"I saw a man who is 98 years old and can still walk and tell jokes\")"
   ]
  },
  {
   "cell_type": "raw",
   "metadata": {},
   "source": [
    "6.- Define una función python para calcular la polisemia media de los lemas de una categoría dada en wordNet. "
   ]
  },
  {
   "cell_type": "code",
   "execution_count": 135,
   "metadata": {},
   "outputs": [],
   "source": [
    "def polisemia(cat):\n",
    "    \n",
    "    list_lemmas = wn.all_lemma_names(pos = cat)  #devuelve lista con todos los lemas relacionados con la categoria\n",
    "\n",
    "    suma_sentidos = 0\n",
    "    lenght = 0\n",
    "    for lem in list_lemmas:\n",
    "        list_sentidos = wn.synsets(lem, pos = cat)   #devuelve lista con el número de sentidos del lema en la categoría\n",
    "        suma_sentidos += len(list_sentidos)\n",
    "        lenght += 1\n",
    "    \n",
    "    #Sumando los sentidos de cada lema en categoría y dividiendo por el\n",
    "    #número de lemas en dicha categoría tendremos la polisemia media.\n",
    "    print(suma_sentidos/lenght)"
   ]
  },
  {
   "cell_type": "raw",
   "metadata": {},
   "source": [
    "7.- Utiliza la función definida para calcular la polisemia media de nombres, verbos, adjetivos y adverbios en wordNet y constatar la veracidad de la siguiente afirmación: la polisemia media más alta es la de los verbos (aproximadamente 2), seguida de los adjetivos, adverbios y nombres."
   ]
  },
  {
   "cell_type": "code",
   "execution_count": 136,
   "metadata": {},
   "outputs": [
    {
     "name": "stdout",
     "output_type": "stream",
     "text": [
      "2.1865729898516784\n",
      "1.406536617160948\n",
      "1.2532916759651864\n",
      "1.2610825311125826\n"
     ]
    }
   ],
   "source": [
    "polisemia(wn.VERB)\n",
    "polisemia(wn.ADJ)\n",
    "polisemia(wn.ADV)\n",
    "polisemia(wn.NOUN)"
   ]
  }
 ],
 "metadata": {
  "anaconda-cloud": {},
  "kernelspec": {
   "display_name": "Python 3",
   "language": "python",
   "name": "python3"
  },
  "language_info": {
   "codemirror_mode": {
    "name": "ipython",
    "version": 3
   },
   "file_extension": ".py",
   "mimetype": "text/x-python",
   "name": "python",
   "nbconvert_exporter": "python",
   "pygments_lexer": "ipython3",
   "version": "3.7.4"
  }
 },
 "nbformat": 4,
 "nbformat_minor": 1
}
