{
 "cells": [
  {
   "cell_type": "code",
   "execution_count": 1,
   "metadata": {},
   "outputs": [
    {
     "ename": "IndexError",
     "evalue": "list index out of range",
     "output_type": "error",
     "traceback": [
      "\u001b[1;31m---------------------------------------------------------------------------\u001b[0m",
      "\u001b[1;31mIndexError\u001b[0m                                Traceback (most recent call last)",
      "\u001b[1;32m<ipython-input-1-4eb282c13bb7>\u001b[0m in \u001b[0;36m<module>\u001b[1;34m\u001b[0m\n\u001b[0;32m     35\u001b[0m \u001b[1;33m\u001b[0m\u001b[0m\n\u001b[0;32m     36\u001b[0m \u001b[1;31m#Call simplified lesk\u001b[0m\u001b[1;33m\u001b[0m\u001b[1;33m\u001b[0m\u001b[1;33m\u001b[0m\u001b[0m\n\u001b[1;32m---> 37\u001b[1;33m \u001b[0mbestSense\u001b[0m\u001b[1;33m,\u001b[0m \u001b[0mmaxOverlap\u001b[0m\u001b[1;33m,\u001b[0m \u001b[0msenses\u001b[0m\u001b[1;33m,\u001b[0m \u001b[0moverlaps\u001b[0m \u001b[1;33m=\u001b[0m \u001b[0mlesk\u001b[0m\u001b[1;33m(\u001b[0m\u001b[0msys\u001b[0m\u001b[1;33m.\u001b[0m\u001b[0margv\u001b[0m\u001b[1;33m[\u001b[0m\u001b[1;36m1\u001b[0m\u001b[1;33m]\u001b[0m\u001b[1;33m,\u001b[0m \u001b[0msys\u001b[0m\u001b[1;33m.\u001b[0m\u001b[0margv\u001b[0m\u001b[1;33m[\u001b[0m\u001b[1;36m2\u001b[0m\u001b[1;33m]\u001b[0m\u001b[1;33m)\u001b[0m\u001b[1;33m;\u001b[0m\u001b[1;33m\u001b[0m\u001b[1;33m\u001b[0m\u001b[0m\n\u001b[0m\u001b[0;32m     38\u001b[0m \u001b[1;33m\u001b[0m\u001b[0m\n\u001b[0;32m     39\u001b[0m \u001b[1;31m#Print to console\u001b[0m\u001b[1;33m\u001b[0m\u001b[1;33m\u001b[0m\u001b[1;33m\u001b[0m\u001b[0m\n",
      "\u001b[1;32m<ipython-input-1-4eb282c13bb7>\u001b[0m in \u001b[0;36mlesk\u001b[1;34m(word, sentence)\u001b[0m\n\u001b[0;32m     10\u001b[0m \u001b[1;33m\u001b[0m\u001b[0m\n\u001b[0;32m     11\u001b[0m     \u001b[1;31m#most frequent sense for word\u001b[0m\u001b[1;33m\u001b[0m\u001b[1;33m\u001b[0m\u001b[1;33m\u001b[0m\u001b[0m\n\u001b[1;32m---> 12\u001b[1;33m     \u001b[0mbestSense\u001b[0m \u001b[1;33m=\u001b[0m \u001b[0mwordnet\u001b[0m\u001b[1;33m.\u001b[0m\u001b[0msynsets\u001b[0m\u001b[1;33m(\u001b[0m\u001b[0mword\u001b[0m\u001b[1;33m)\u001b[0m\u001b[1;33m[\u001b[0m\u001b[1;36m0\u001b[0m\u001b[1;33m]\u001b[0m\u001b[1;33m;\u001b[0m\u001b[1;33m\u001b[0m\u001b[1;33m\u001b[0m\u001b[0m\n\u001b[0m\u001b[0;32m     13\u001b[0m     \u001b[1;31m#overlap count\u001b[0m\u001b[1;33m\u001b[0m\u001b[1;33m\u001b[0m\u001b[1;33m\u001b[0m\u001b[0m\n\u001b[0;32m     14\u001b[0m     \u001b[0mmaxOverlap\u001b[0m \u001b[1;33m=\u001b[0m \u001b[1;36m0\u001b[0m\u001b[1;33m;\u001b[0m\u001b[1;33m\u001b[0m\u001b[1;33m\u001b[0m\u001b[0m\n",
      "\u001b[1;31mIndexError\u001b[0m: list index out of range"
     ]
    }
   ],
   "source": [
    "import re\n",
    "import sys\n",
    "from nltk.corpus import wordnet\n",
    "\n",
    "# Simplified Lesk algorithm\n",
    "def lesk(word, sentence):\n",
    "\n",
    "    senses = []\n",
    "    overlaps = []\n",
    "\n",
    "    #most frequent sense for word\n",
    "    bestSense = wordnet.synsets(word)[0];\n",
    "    #overlap count\n",
    "    maxOverlap = 0;\n",
    "    #set of words in sentence\n",
    "    context = set(re.sub('\\W+', ' ', sentence).lower().split());\n",
    "\n",
    "    for sense in wordnet.synsets(word):\n",
    "        #signature is: set of words in gloss+examples of the sense\n",
    "        signature = set(re.sub('\\W+', ' ', sense.definition()).lower().split())\n",
    "        for example in sense.examples():\n",
    "            signature.update(re.sub('\\W+', ' ', example).lower().split());\n",
    "\n",
    "        overlap = len(context.intersection(signature));\n",
    "\n",
    "        if(overlap > maxOverlap):\n",
    "            maxOverlap = overlap\n",
    "            bestSense = sense\n",
    "\n",
    "        #print current sense and overlap\n",
    "        senses.append(sense.definition());\n",
    "        overlaps.append(overlap);\n",
    "\n",
    "    return bestSense, maxOverlap, senses, overlaps;\n",
    "\n",
    "#Call simplified lesk\n",
    "bestSense, maxOverlap, senses, overlaps = lesk(sys.argv[1], sys.argv[2]);\n",
    "\n",
    "#Print to console\n",
    "print('List of senses:')\n",
    "for i in range(0, len(senses)):\n",
    "    print(\"\\nCurrent Sense: \" + str(senses[i]) + \"\\nSense Overlap: \" + str(overlaps[i]))\n",
    "print(\"\\n============================\")\n",
    "print(\"Best Sense: \" + str(bestSense.definition()) + \"\\nBest Overlap: \" + str(maxOverlap) + \"\\nExamples: \")\n",
    "for count, example in enumerate(bestSense.examples(), start=1):\n",
    "    print(str(count) + \". \" + str(example));\n",
    "print(\"============================\\n\")\n",
    "\n",
    "#Print to file\n",
    "myfile = open('output.txt', 'w+')\n",
    "myfile.write('\\nList of senses:\\n')\n",
    "for i in range(0, len(senses)):\n",
    "    myfile.write(\"\\nCurrent Sense: \" + str(senses[i]) + \"\\nSense Overlap: \" + str(overlaps[i]) + \"\\n\")\n",
    "myfile.write(\"\\n============================\\n\")\n",
    "myfile.write(\"Best Sense: \" + str(bestSense.definition()) + \"\\nBest Overlap: \" + str(maxOverlap) + \"\\nExamples:\\n\")\n",
    "for count, example in enumerate(bestSense.examples(), start=1):\n",
    "    myfile.write(str(count) + \". \" + str(example)+\"\\n\");\n",
    "myfile.write(\"============================\\n\")"
   ]
  }
 ],
 "metadata": {
  "kernelspec": {
   "display_name": "Python 3",
   "language": "python",
   "name": "python3"
  },
  "language_info": {
   "codemirror_mode": {
    "name": "ipython",
    "version": 3
   },
   "file_extension": ".py",
   "mimetype": "text/x-python",
   "name": "python",
   "nbconvert_exporter": "python",
   "pygments_lexer": "ipython3",
   "version": "3.7.4"
  }
 },
 "nbformat": 4,
 "nbformat_minor": 2
}
