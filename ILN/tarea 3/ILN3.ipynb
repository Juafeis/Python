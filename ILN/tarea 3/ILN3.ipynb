{
 "cells": [
  {
   "cell_type": "markdown",
   "metadata": {},
   "source": [
    "# ILN3: WSD. El Algoritmo de Lesk"
   ]
  },
  {
   "cell_type": "raw",
   "metadata": {},
   "source": [
    "Se trata de definir y usar una función que, dada una frase y utilizando el algoritmo de Lesk, desambigüe cada una de sus palabras con contenido. La signatura se construirá considerando la definición y los ejemplos de cada synset."
   ]
  },
  {
   "cell_type": "raw",
   "metadata": {},
   "source": [
    "1.- Definir la función wsd que dada una frase y usando el algoritmo de Lesk muestre por pantalla el resultado de la desambiguación de cada una de sus palabras. \n",
    "Para ello, para cada palabra de la frase w y para cada sentido syn de w, sin considerar las stopwords, se debe computar el\n",
    "solapamiento, es decir, el número de palabras en común entre la definición y ejemplos del sentido syn y la frase. El syn que maximice este solapamiento será el asignado a la palabra w."
   ]
  },
  {
   "cell_type": "code",
   "execution_count": 52,
   "metadata": {},
   "outputs": [],
   "source": [
    "from nltk.corpus import wordnet as wn\n",
    "from nltk.tokenize import word_tokenize as wt\n",
    "from nltk.corpus import stopwords as sw   \n",
    "\n",
    "def wsd(sentence):\n",
    "    best_sense = \"\"\n",
    "    max_overlap = 0\n",
    "    context = [word.lower() for word in set(wt(sentence)) if word.lower() not in sw.words('english')]\n",
    "    for word in context:\n",
    "        senses_of_word = wn.synsets(word)\n",
    "        for sense in senses_of_word:\n",
    "            signature = getSignature(sense)\n",
    "            overlap = computeOverlap(signature, set(wt(sentence)))\n",
    "            if overlap > max_overlap:\n",
    "                max_overlap = overlap\n",
    "                best_sense = sense\n",
    "        if(best_sense is not \"\"):\n",
    "            print(\"Analizando \" + word + \" (\" + str(len(senses_of_word)) + \" sentidos) \" +\n",
    "                  \"--> \" + str(best_sense) + \" con solape \" + str(max_overlap))\n",
    "            print(str(best_sense.definition()))\n",
    "\n",
    "def getSignature(sense):\n",
    "    definitionTokens = set(wt(sense.definition()))\n",
    "    for example in sense.examples():\n",
    "        definitionTokens.union(set(wt(example)))\n",
    "    return definitionTokens\n",
    "\n",
    "def computeOverlap(signature, context):\n",
    "    overlapsSet = signature.intersection(context)\n",
    "    return len(overlapsSet)\n"
   ]
  },
  {
   "cell_type": "raw",
   "metadata": {},
   "source": [
    "2.- Utilizar la función definida, wsd, sobre la frase \"I saw a man who is 98 years old and can still walk and tell jokes\""
   ]
  },
  {
   "cell_type": "code",
   "execution_count": 53,
   "metadata": {},
   "outputs": [
    {
     "name": "stdout",
     "output_type": "stream",
     "text": [
      "Analizando heroes (7 sentidos) --> Synset('champion.n.02') con solape 1\n",
      "someone who fights for a cause\n",
      "Analizando day (10 sentidos) --> Synset('sidereal_day.n.01') con solape 3\n",
      "the time for one complete rotation of the earth relative to a particular star, about 4 minutes shorter than a mean solar day\n",
      "Analizando one (9 sentidos) --> Synset('sidereal_day.n.01') con solape 3\n",
      "the time for one complete rotation of the earth relative to a particular star, about 4 minutes shorter than a mean solar day\n"
     ]
    }
   ],
   "source": [
    "wsd(\"We can be heroes just for one day\")"
   ]
  },
  {
   "cell_type": "code",
   "execution_count": null,
   "metadata": {},
   "outputs": [],
   "source": []
  }
 ],
 "metadata": {
  "anaconda-cloud": {},
  "kernelspec": {
   "display_name": "Python 3",
   "language": "python",
   "name": "python3"
  },
  "language_info": {
   "codemirror_mode": {
    "name": "ipython",
    "version": 3
   },
   "file_extension": ".py",
   "mimetype": "text/x-python",
   "name": "python",
   "nbconvert_exporter": "python",
   "pygments_lexer": "ipython3",
   "version": "3.7.4"
  }
 },
 "nbformat": 4,
 "nbformat_minor": 1
}
