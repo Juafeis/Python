{
 "cells": [
  {
   "cell_type": "markdown",
   "metadata": {},
   "source": [
    "# ILN3: WSD. El Algoritmo de Lesk"
   ]
  },
  {
   "cell_type": "raw",
   "metadata": {},
   "source": [
    "Se trata de definir y usar una función que, dada una frase y utilizando el algoritmo de Lesk, desambigüe cada una de sus palabras con contenido. La signatura se construirá considerando la definición y los ejemplos de cada synset."
   ]
  },
  {
   "cell_type": "raw",
   "metadata": {},
   "source": [
    "1.- Definir la función wsd que dada una frase y usando el algoritmo de Lesk muestre por pantalla el resultado de la desambiguación de cada una de sus palabras. \n",
    "Para ello, para cada palabra de la frase w y para cada sentido syn de w, sin considerar las stopwords, se debe computar el\n",
    "solapamiento, es decir, el número de palabras en común entre la definición y ejemplos del sentido syn y la frase. El syn que maximice este solapamiento será el asignado a la palabra w."
   ]
  },
  {
   "cell_type": "code",
   "execution_count": 10,
   "metadata": {},
   "outputs": [
    {
     "name": "stdout",
     "output_type": "stream",
     "text": [
      "... Analizando day (10 sentidos) --> Synset('sidereal_day.n.01') con solape 2\n",
      "the time for one complete rotation of the earth relative to a particular star, about 4 minutes shorter than a mean solar day\n",
      "... Analizando can (8 sentidos) --> Synset('toilet.n.01') con solape 1\n",
      "a room or building equipped with one or more toilets\n"
     ]
    }
   ],
   "source": [
    "from nltk.corpus import wordnet as wn\n",
    "from nltk.tokenize import word_tokenize as wt\n",
    "from nltk.corpus import stopwords as sw\n",
    "\n",
    "    \n",
    "\n",
    "def wsd(sentence):\n",
    "    #set of words in the sentence\n",
    "    context = set(wt(sentence))\n",
    "    for word in context:\n",
    "        #by default best sense is null\n",
    "        best_sense = 'null'\n",
    "        #obtain senses for a word\n",
    "        word_senses = wn.synsets(word)\n",
    "        #by default overlap is 0\n",
    "        max_overlap = 0\n",
    "        for sense in word_senses:\n",
    "            #get the signature\n",
    "            signature = getSignature(sense)\n",
    "            #get the overlap\n",
    "            overlap = computeOverlap(signature, context)\n",
    "            if overlap > max_overlap:\n",
    "                max_overlap = overlap\n",
    "                best_sense = sense\n",
    "\n",
    "        if(best_sense is not 'null'):\n",
    "            print(\"... Analizando \" + word + \" (\" + str(len(word_senses)) + \" sentidos) \" +\n",
    "                  \"--> \" + str(best_sense) + \" con solape \" + str(max_overlap))\n",
    "            print(str(best_sense.definition()))\n",
    "\n",
    "def getSignature(sense):\n",
    "    #Returns tokens of sense's definition & examples:\n",
    "    definitionTokens = set(wt(sense.definition()))\n",
    "    for example in sense.examples():\n",
    "        definitionTokens.union(set(wt(example)))\n",
    "    return definitionTokens\n",
    "\n",
    "def computeOverlap(signature, context):\n",
    "    #Conputes the overlaps between signature & context and returns the length of overlaps set:\n",
    "    signatureTokens = signature.difference(set(sw.words('english')))\n",
    "    #print(signatureTokens)\n",
    "    #print(\"==================================\")\n",
    "    overlapsSet = signatureTokens.intersection(context)\n",
    "    return len(overlapsSet)\n",
    "\n",
    "\n",
    "if __name__ == '__main__':\n",
    "    sentence = \"We can be heroes just for one day\"\n",
    "    wsd(sentence)"
   ]
  },
  {
   "cell_type": "code",
   "execution_count": 5,
   "metadata": {},
   "outputs": [
    {
     "data": {
      "text/plain": [
       "['he cashed a check at the bank', 'that bank holds the mortgage on my home']"
      ]
     },
     "execution_count": 5,
     "metadata": {},
     "output_type": "execute_result"
    }
   ],
   "source": [
    "finalSense = leskDisambiguate(\"bank\", \"The bank could guarantee deposits will eventually cover future tuition costs because it invests in adjustable-rate mortgage securities.\")\n",
    "finalSense.definition()\n",
    "finalSense.examples()"
   ]
  },
  {
   "cell_type": "raw",
   "metadata": {},
   "source": [
    "2.- Utilizar la función definida, wsd, sobre la frase \"I saw a man who is 98 years old and can still walk and tell jokes\""
   ]
  },
  {
   "cell_type": "code",
   "execution_count": 3,
   "metadata": {},
   "outputs": [
    {
     "data": {
      "text/plain": [
       "['saw wood for the fireplace']"
      ]
     },
     "execution_count": 3,
     "metadata": {},
     "output_type": "execute_result"
    }
   ],
   "source": [
    "finalSense = leskDisambiguate(\"saw\", \"I saw a man who is 98 years old and can still walk and tell jokes.\")\n",
    "finalSense.definition()\n",
    "finalSense.examples()"
   ]
  }
 ],
 "metadata": {
  "anaconda-cloud": {},
  "kernelspec": {
   "display_name": "Python 3",
   "language": "python",
   "name": "python3"
  },
  "language_info": {
   "codemirror_mode": {
    "name": "ipython",
    "version": 3
   },
   "file_extension": ".py",
   "mimetype": "text/x-python",
   "name": "python",
   "nbconvert_exporter": "python",
   "pygments_lexer": "ipython3",
   "version": "3.7.4"
  }
 },
 "nbformat": 4,
 "nbformat_minor": 1
}
