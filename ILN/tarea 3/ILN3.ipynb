{
 "cells": [
  {
   "cell_type": "markdown",
   "metadata": {},
   "source": [
    "# ILN3: WSD. El Algoritmo de Lesk"
   ]
  },
  {
   "cell_type": "raw",
   "metadata": {},
   "source": [
    "Se trata de definir y usar una función que, dada una frase y utilizando el algoritmo de Lesk, desambigüe cada una de sus palabras con contenido. La signatura se construirá considerando la definición y los ejemplos de cada synset."
   ]
  },
  {
   "cell_type": "raw",
   "metadata": {},
   "source": [
    "1.- Definir la función wsd que dada una frase y usando el algoritmo de Lesk muestre por pantalla el resultado de la desambiguación de cada una de sus palabras. \n",
    "Para ello, para cada palabra de la frase w y para cada sentido syn de w, sin considerar las stopwords, se debe computar el\n",
    "solapamiento, es decir, el número de palabras en común entre la definición y ejemplos del sentido syn y la frase. El syn que maximice este solapamiento será el asignado a la palabra w."
   ]
  },
  {
   "cell_type": "code",
   "execution_count": 1,
   "metadata": {},
   "outputs": [
    {
     "name": "stdout",
     "output_type": "stream",
     "text": [
      "========================================\n",
      "The Best Sense is: Synset('depository_financial_institution.n.01')\n",
      "\n",
      "Definition: a financial institution that accepts deposits and channels the money into lending activities\n",
      "\n",
      "Example: ['he cashed a check at the bank', 'that bank holds the mortgage on my home']\n"
     ]
    }
   ],
   "source": [
    "from nltk.corpus import wordnet as wn\n",
    "from nltk.tokenize import word_tokenize as wt\n",
    "from nltk.corpus import stopwords as sw\n",
    "\n",
    "    \n",
    "def leskDisambiguate(word, sentence):\n",
    "    #Get all senses from wordnet & assign 1st one as best:\n",
    "    wordSenses = wn.synsets(word)\n",
    "    #print(wordSenses[0].definitions())\n",
    "    bestSense = wordSenses[0]\n",
    "    #print(best_sense.definition())\n",
    "    #Tokenize the sentence:\n",
    "    context = set(wt(sentence))\n",
    "    maxOverlap = 0\n",
    "    \n",
    "    for sense in wordSenses:\n",
    "        signature = getSignature(sense)\n",
    "        overlap = computeOverlap(signature, context)\n",
    "        if overlap > maxOverlap:\n",
    "            maxOverlap = overlap\n",
    "            bestSense = sense\n",
    "    return bestSense\n",
    "\n",
    "def getSignature(sense):\n",
    "    #Returns tokens of sense's definition & examples:\n",
    "    definitionTokens = set(wt(sense.definition()))\n",
    "    for example in sense.examples():\n",
    "        definitionTokens.union(set(wt(example)))\n",
    "    return definitionTokens\n",
    "\n",
    "def computeOverlap(signature, context):\n",
    "    #Conputes the overlaps between signature & context and returns the length of overlaps set:\n",
    "    signatureTokens = signature.difference(set(sw.words('english')))\n",
    "    #print(signatureTokens)\n",
    "    #print(\"==================================\")\n",
    "    overlapsSet = signatureTokens.intersection(context)\n",
    "    return len(overlapsSet)\n",
    "\n",
    "\n",
    "if __name__ == '__main__':\n",
    "    word = \"bank\"\n",
    "    sentence = \"The bank can guarantee deposits will eventually cover future tuition costs because it invests in adjustable-rate mortgage securities.\"\n",
    "    finalSense = leskDisambiguate(word, sentence)\n",
    "    print(\"========================================\\nThe Best Sense is: \" + str(finalSense))\n",
    "    print(\"\\nDefinition: \" + str(finalSense.definition()))\n",
    "    print(\"\\nExample: \" + str(finalSense.examples()))"
   ]
  },
  {
   "cell_type": "code",
   "execution_count": 5,
   "metadata": {},
   "outputs": [
    {
     "data": {
      "text/plain": [
       "['he cashed a check at the bank', 'that bank holds the mortgage on my home']"
      ]
     },
     "execution_count": 5,
     "metadata": {},
     "output_type": "execute_result"
    }
   ],
   "source": [
    "finalSense = leskDisambiguate(\"bank\", \"The bank could guarantee deposits will eventually cover future tuition costs because it invests in adjustable-rate mortgage securities.\")\n",
    "finalSense.definition()\n",
    "finalSense.examples()"
   ]
  },
  {
   "cell_type": "raw",
   "metadata": {},
   "source": [
    "2.- Utilizar la función definida, wsd, sobre la frase \"I saw a man who is 98 years old and can still walk and tell jokes\""
   ]
  }
 ],
 "metadata": {
  "anaconda-cloud": {},
  "kernelspec": {
   "display_name": "Python 3",
   "language": "python",
   "name": "python3"
  },
  "language_info": {
   "codemirror_mode": {
    "name": "ipython",
    "version": 3
   },
   "file_extension": ".py",
   "mimetype": "text/x-python",
   "name": "python",
   "nbconvert_exporter": "python",
   "pygments_lexer": "ipython3",
   "version": "3.7.4"
  }
 },
 "nbformat": 4,
 "nbformat_minor": 1
}
